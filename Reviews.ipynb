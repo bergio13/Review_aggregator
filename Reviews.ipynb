{
 "cells": [
  {
   "cell_type": "code",
   "execution_count": 1,
   "id": "c0883316-c391-413a-940a-1e015a1176bc",
   "metadata": {},
   "outputs": [],
   "source": [
    "import streamlit as st\n",
    "\n",
    "import requests\n",
    "from bs4 import BeautifulSoup\n",
    "from rotten_tomatoes_scraper.rt_scraper import MovieScraper\n",
    "import imdb\n",
    "import mal"
   ]
  },
  {
   "cell_type": "code",
   "execution_count": 2,
   "id": "112c7a12-8f54-42f0-8569-39c84ff95e57",
   "metadata": {},
   "outputs": [],
   "source": [
    "user_agent = {'User-agent': 'Mozilla/5.0'}"
   ]
  },
  {
   "cell_type": "markdown",
   "id": "80939512-e958-46ee-9722-30ef3b11ab27",
   "metadata": {},
   "source": [
    "# Streamlit Website"
   ]
  },
  {
   "cell_type": "code",
   "execution_count": null,
   "id": "dda893c9-ac10-46d0-9644-3d9dcd80c9ca",
   "metadata": {},
   "outputs": [],
   "source": [
    "st.set_page_config(page_title='Review aggregator', page_icon=':anger:')\n",
    "\n",
    "#-----HEADER SECTION\n",
    "st.subheader('Review Aggregator - Movies/Tv shows/Animes')\n",
    "st.title('Title:')\n",
    "title = st.text_input(label='Insert title')\n",
    "genre = st.radio('Choose the genre', ('Movie', 'Tv Show', 'Anime'))\n"
   ]
  },
  {
   "cell_type": "markdown",
   "id": "955784dc-4e7f-4e45-bf87-5b7085487b47",
   "metadata": {},
   "source": [
    "## Metacritic"
   ]
  },
  {
   "cell_type": "code",
   "execution_count": 24,
   "id": "047ebe96-b86e-4c6b-8fe4-114b1441a9bb",
   "metadata": {},
   "outputs": [],
   "source": [
    "def search_meta(title, genre):\n",
    "    # Genre can be 'tv' or 'movie'\n",
    "    if genre == 'Movie':\n",
    "        genre = 'movie'\n",
    "    else:\n",
    "        genre = 'tv'\n",
    "    \n",
    "    title = title.lower().replace(' ', '-').replace(':', '')\n",
    "    meta_url = 'https://www.metacritic.com/' + genre + '/' + title\n",
    "    meta = requests.get(meta_url, headers=user_agent)\n",
    "    soup = BeautifulSoup(meta.text, 'html.parser')\n",
    "    meta_critic_rev = float(soup.find('td', class_='summary_right').text) / 10\n",
    "    meta_user_rev = soup.find('td', class_='summary_right pad_btm1').text\n",
    "    if meta_user_rev != '\\n\\ntbd\\n\\n':\n",
    "        meta_user_rev = float(meta_user_rev)\n",
    "    else:\n",
    "        meta_user_rev = 'No score yet'\n",
    "    \n",
    "    print(meta_url)\n",
    "    print('Critics score:', meta_critic_rev)\n",
    "    print('Users score:', meta_user_rev)"
   ]
  },
  {
   "cell_type": "code",
   "execution_count": 25,
   "id": "b5a01c4c-1d3f-41df-a6bf-c3fe81990d90",
   "metadata": {},
   "outputs": [
    {
     "data": {
      "text/plain": [
       "'https://www.metacritic.com/movie/howls-moving-castle'"
      ]
     },
     "execution_count": 71,
     "metadata": {},
     "output_type": "execute_result"
    }
   ],
   "source": [
    "search_meta('Howls moving castle', 'Movie')"
   ]
  },
  {
   "cell_type": "markdown",
   "id": "1d75d2c5-999a-4e7e-9357-231a5ad81124",
   "metadata": {},
   "source": [
    "## Rotten Tomatoes"
   ]
  },
  {
   "cell_type": "code",
   "execution_count": 28,
   "id": "63c53992-1d85-4081-8860-643d09c6dd5b",
   "metadata": {},
   "outputs": [],
   "source": [
    "def search_rt(title, genre):\n",
    "    # Genre 'tv' or 'm'\n",
    "    # Genre can be 'tv' or 'movie'\n",
    "    if genre == 'Movie':\n",
    "        genre = 'm'\n",
    "    else:\n",
    "        genre = 'tv'\n",
    "    \n",
    "    title = title.lower().replace(' ', '_').replace(':', '')\n",
    "    rt_url = 'https://www.rottentomatoes.com/' + genre + '/' + title\n",
    "    rt = requests.get(rt_url, headers=user_agent)\n",
    "    soup = BeautifulSoup(rt.text, 'html.parser')\n",
    "    if genre == 'tv':\n",
    "        reviews = soup.findAll('span', class_='mop-ratings-wrap__percentage')\n",
    "        rt_critic_rev = int(reviews[0].text.replace(' ', '').replace('\\n', '').replace('%', '')) / 10\n",
    "        rt_user_rev = int(reviews[1].text.replace(' ', '').replace('\\n', '').replace('%', '')) / 10   \n",
    "    else:\n",
    "        movie_scraper = MovieScraper(movie_url=rt_url)\n",
    "        movie_scraper.extract_metadata()\n",
    "        reviews = movie_scraper.metadata\n",
    "        rt_critic_rev = int(reviews['Score_Rotten']) / 10\n",
    "        rt_user_rev = int(reviews['Score_Audience']) / 10\n",
    "    \n",
    "    print(rt_url)\n",
    "    print('Critics score:', rt_critic_rev)\n",
    "    print('Users score:', rt_user_rev)"
   ]
  },
  {
   "cell_type": "code",
   "execution_count": 94,
   "id": "fee4d922-6daf-48c1-8959-556dfcfadace",
   "metadata": {},
   "outputs": [
    {
     "ename": "IndexError",
     "evalue": "list index out of range",
     "output_type": "error",
     "traceback": [
      "\u001b[1;31m---------------------------------------------------------------------------\u001b[0m",
      "\u001b[1;31mIndexError\u001b[0m                                Traceback (most recent call last)",
      "Input \u001b[1;32mIn [94]\u001b[0m, in \u001b[0;36m<cell line: 1>\u001b[1;34m()\u001b[0m\n\u001b[1;32m----> 1\u001b[0m \u001b[43msearch_rt\u001b[49m\u001b[43m(\u001b[49m\u001b[38;5;124;43m'\u001b[39;49m\u001b[38;5;124;43mranking_of_kings\u001b[39;49m\u001b[38;5;124;43m'\u001b[39;49m\u001b[43m,\u001b[49m\u001b[43m \u001b[49m\u001b[38;5;124;43m'\u001b[39;49m\u001b[38;5;124;43mtv\u001b[39;49m\u001b[38;5;124;43m'\u001b[39;49m\u001b[43m)\u001b[49m\n",
      "Input \u001b[1;32mIn [28]\u001b[0m, in \u001b[0;36msearch_rt\u001b[1;34m(title, genre)\u001b[0m\n\u001b[0;32m     14\u001b[0m     reviews \u001b[38;5;241m=\u001b[39m soup\u001b[38;5;241m.\u001b[39mfindAll(\u001b[38;5;124m'\u001b[39m\u001b[38;5;124mspan\u001b[39m\u001b[38;5;124m'\u001b[39m, class_\u001b[38;5;241m=\u001b[39m\u001b[38;5;124m'\u001b[39m\u001b[38;5;124mmop-ratings-wrap__percentage\u001b[39m\u001b[38;5;124m'\u001b[39m)\n\u001b[0;32m     15\u001b[0m     rt_critic_rev \u001b[38;5;241m=\u001b[39m \u001b[38;5;28mint\u001b[39m(reviews[\u001b[38;5;241m0\u001b[39m]\u001b[38;5;241m.\u001b[39mtext\u001b[38;5;241m.\u001b[39mreplace(\u001b[38;5;124m'\u001b[39m\u001b[38;5;124m \u001b[39m\u001b[38;5;124m'\u001b[39m, \u001b[38;5;124m'\u001b[39m\u001b[38;5;124m'\u001b[39m)\u001b[38;5;241m.\u001b[39mreplace(\u001b[38;5;124m'\u001b[39m\u001b[38;5;130;01m\\n\u001b[39;00m\u001b[38;5;124m'\u001b[39m, \u001b[38;5;124m'\u001b[39m\u001b[38;5;124m'\u001b[39m)\u001b[38;5;241m.\u001b[39mreplace(\u001b[38;5;124m'\u001b[39m\u001b[38;5;124m%\u001b[39m\u001b[38;5;124m'\u001b[39m, \u001b[38;5;124m'\u001b[39m\u001b[38;5;124m'\u001b[39m)) \u001b[38;5;241m/\u001b[39m \u001b[38;5;241m10\u001b[39m\n\u001b[1;32m---> 16\u001b[0m     rt_user_rev \u001b[38;5;241m=\u001b[39m \u001b[38;5;28mint\u001b[39m(\u001b[43mreviews\u001b[49m\u001b[43m[\u001b[49m\u001b[38;5;241;43m1\u001b[39;49m\u001b[43m]\u001b[49m\u001b[38;5;241m.\u001b[39mtext\u001b[38;5;241m.\u001b[39mreplace(\u001b[38;5;124m'\u001b[39m\u001b[38;5;124m \u001b[39m\u001b[38;5;124m'\u001b[39m, \u001b[38;5;124m'\u001b[39m\u001b[38;5;124m'\u001b[39m)\u001b[38;5;241m.\u001b[39mreplace(\u001b[38;5;124m'\u001b[39m\u001b[38;5;130;01m\\n\u001b[39;00m\u001b[38;5;124m'\u001b[39m, \u001b[38;5;124m'\u001b[39m\u001b[38;5;124m'\u001b[39m)\u001b[38;5;241m.\u001b[39mreplace(\u001b[38;5;124m'\u001b[39m\u001b[38;5;124m%\u001b[39m\u001b[38;5;124m'\u001b[39m, \u001b[38;5;124m'\u001b[39m\u001b[38;5;124m'\u001b[39m)) \u001b[38;5;241m/\u001b[39m \u001b[38;5;241m10\u001b[39m   \n\u001b[0;32m     17\u001b[0m \u001b[38;5;28;01melse\u001b[39;00m:\n\u001b[0;32m     18\u001b[0m     movie_scraper \u001b[38;5;241m=\u001b[39m MovieScraper(movie_url\u001b[38;5;241m=\u001b[39mrt_url)\n",
      "\u001b[1;31mIndexError\u001b[0m: list index out of range"
     ]
    }
   ],
   "source": [
    "search_rt('tatami', 'tv')"
   ]
  },
  {
   "cell_type": "markdown",
   "id": "4a25138b-ee7e-4685-883c-8ccdca4400f7",
   "metadata": {},
   "source": [
    "## IMDb"
   ]
  },
  {
   "cell_type": "code",
   "execution_count": 84,
   "id": "f8278873-90c7-464e-90bb-03f211f7759c",
   "metadata": {},
   "outputs": [],
   "source": [
    "def search_imdb(title):\n",
    "    ia = imdb.Cinemagoer()\n",
    "    try:\n",
    "        # Do the search, and get the results (a list of Movie objects).\n",
    "        results = ia.search_movie(title)\n",
    "    except imdb.IMDbError as e:\n",
    "        print(\"Probably you're not connected to Internet.  Complete error report:\")\n",
    "        print(e)\n",
    "        sys.exit(3)\n",
    "    movie = ia.search_movie(title.lower())\n",
    "    print(movie)\n",
    "    imdb_id = movie[0].getID()\n",
    "    imdb_url = 'https://imdb.com/title/tt' + imdb_id\n",
    "    im = requests.get(imdb_url, headers=user_agent)\n",
    "    soup = BeautifulSoup(im.text, 'html.parser')\n",
    "    score = float(soup.find('span', class_='sc-7ab21ed2-1 jGRxWM').text)\n",
    "    print(imdb_url)\n",
    "    print(score)"
   ]
  },
  {
   "cell_type": "code",
   "execution_count": 85,
   "id": "69bd238f-0a02-4a59-92da-b21d21689c53",
   "metadata": {},
   "outputs": [
    {
     "name": "stdout",
     "output_type": "stream",
     "text": [
      "[<Movie id:0386676[http] title:_\"The Office\" (2005)_>, <Movie id:0290978[http] title:_\"The Office\" (2001)_>, <Movie id:20877972[http] title:_\"The Office\" (2022)_>, <Movie id:14819828[http] title:_\"The Office Blind Date\" (2022)_>, <Movie id:9114660[http] title:_The Office Mix-Up (2020)_>, <Movie id:8305218[http] title:_\"The Office\" (2019)_>, <Movie id:7921562[http] title:_The Office Games (2022)_>, <Movie id:0840149[http] title:_\"The Office: The Accountants\" (2006) (mini)_>, <Movie id:0151804[http] title:_Office Space (1999)_>, <Movie id:0112108[http] title:_\"The Office\" (1995)_>, <Movie id:1791001[http] title:_\"The Office\" (2010)_>, <Movie id:0139786[http] title:_The Office (1996) (TV)_>, <Movie id:15019916[http] title:_\"The Office PL\" (2021)_>, <Movie id:6097546[http] title:_The Office (1981)_>, <Movie id:0167319[http] title:_The Office (1966)_>, <Movie id:12194000[http] title:_Out of Office (2022) (TV)_>, <Movie id:1740835[http] title:_\"The Office: The 3rd Floor\" (2010)_>, <Movie id:2186395[http] title:_\"The Office\" (2012)_>, <Movie id:10193026[http] title:_\"The Office: Australia\" (2023)_>, <Movie id:0089276[http] title:_The Official Story (1985)_>]\n",
      "https://imdb.com/title/tt0386676\n",
      "9.0\n"
     ]
    }
   ],
   "source": [
    "search_imdb('the office')"
   ]
  },
  {
   "cell_type": "markdown",
   "id": "66f1c1e7-9f9e-4f2a-a36f-5f11653a420f",
   "metadata": {},
   "source": [
    "## My anime list"
   ]
  },
  {
   "cell_type": "code",
   "execution_count": 72,
   "id": "f8f0d14f-8fdd-41c7-9b22-d3641bbcb622",
   "metadata": {},
   "outputs": [],
   "source": [
    "def search_mal(title):\n",
    "    search = mal.AnimeSearch(title)\n",
    "    return search.results[0].url, search.results[0].score"
   ]
  }
 ],
 "metadata": {
  "kernelspec": {
   "display_name": "Python 3 (ipykernel)",
   "language": "python",
   "name": "python3"
  },
  "language_info": {
   "codemirror_mode": {
    "name": "ipython",
    "version": 3
   },
   "file_extension": ".py",
   "mimetype": "text/x-python",
   "name": "python",
   "nbconvert_exporter": "python",
   "pygments_lexer": "ipython3",
   "version": "3.9.12"
  }
 },
 "nbformat": 4,
 "nbformat_minor": 5
}
